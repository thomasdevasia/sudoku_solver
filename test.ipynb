{
 "cells": [
  {
   "cell_type": "code",
   "execution_count": 1,
   "metadata": {},
   "outputs": [],
   "source": [
    "import numpy as np"
   ]
  },
  {
   "cell_type": "code",
   "execution_count": 7,
   "metadata": {},
   "outputs": [
    {
     "name": "stdout",
     "output_type": "stream",
     "text": [
      "[[2 4 0 3 0 7 1 0 0]\n",
      " [3 0 0 0 2 0 0 0 0]\n",
      " [0 0 0 0 5 0 0 7 0]\n",
      " [9 0 0 1 0 3 0 8 0]\n",
      " [0 5 0 0 0 0 0 0 9]\n",
      " [0 0 0 2 0 0 0 0 0]\n",
      " [0 0 6 0 0 0 4 0 0]\n",
      " [0 0 0 0 7 0 0 0 0]\n",
      " [5 0 0 9 0 8 0 1 0]]\n"
     ]
    }
   ],
   "source": [
    "grid = [\n",
    "    [2,4,0,3,0,7,1,0,0],\n",
    "    [3,0,0,0,2,0,0,0,0],\n",
    "    [0,0,0,0,5,0,0,7,0],\n",
    "    [9,0,0,1,0,3,0,8,0],\n",
    "    [0,5,0,0,0,0,0,0,9],\n",
    "    [0,0,0,2,0,0,0,0,0],\n",
    "    [0,0,6,0,0,0,4,0,0],\n",
    "    [0,0,0,0,7,0,0,0,0],\n",
    "    [5,0,0,9,0,8,0,1,0],\n",
    "]\n",
    "\n",
    "print(np.matrix(grid))"
   ]
  },
  {
   "cell_type": "code",
   "execution_count": 8,
   "metadata": {},
   "outputs": [],
   "source": [
    "# check if the number is valid for the given position\n",
    "def is_valid(grid, row, col, num):\n",
    "    # check if the number is already in the row\n",
    "    for i in range(9):\n",
    "        if grid[row][i] == num:\n",
    "            return False\n",
    "\n",
    "    # check if the number is already in the column\n",
    "    for i in range(9):\n",
    "        if grid[i][col] == num:\n",
    "            return False\n",
    "\n",
    "    # check if the number is already in the 3x3 box\n",
    "    for i in range(3):\n",
    "        for j in range(3):\n",
    "            if grid[(row // 3) * 3 + i][(col // 3) * 3 + j] == num:\n",
    "                return False\n",
    "\n",
    "    return True"
   ]
  },
  {
   "cell_type": "code",
   "execution_count": 9,
   "metadata": {},
   "outputs": [],
   "source": [
    "# check for empty cells\n",
    "def find_empty_cell(grid):\n",
    "    for i in range(9):\n",
    "        for j in range(9):\n",
    "            if grid[i][j] == 0:\n",
    "                return (i, j)\n",
    "\n",
    "    return None"
   ]
  },
  {
   "cell_type": "code",
   "execution_count": 10,
   "metadata": {},
   "outputs": [
    {
     "data": {
      "text/plain": [
       "True"
      ]
     },
     "execution_count": 10,
     "metadata": {},
     "output_type": "execute_result"
    }
   ],
   "source": [
    "# solve the sudoku\n",
    "def solve_sudoku(grid):\n",
    "\n",
    "    # find next empty cell\n",
    "    empty_cell = find_empty_cell(grid)\n",
    "\n",
    "    if empty_cell is None:\n",
    "        return True\n",
    "\n",
    "    row, col = empty_cell\n",
    "\n",
    "    # try all numbers from 1 to 9\n",
    "    for num in range(1, 10):\n",
    "        if is_valid(grid, row, col, num):\n",
    "            grid[row][col] = num\n",
    "\n",
    "            if solve_sudoku(grid):\n",
    "                return True\n",
    "\n",
    "            grid[row][col] = 0\n",
    "\n",
    "    return False\n",
    "\n",
    "# solve the sudoku\n",
    "solve_sudoku(grid)"
   ]
  },
  {
   "cell_type": "code",
   "execution_count": 11,
   "metadata": {},
   "outputs": [
    {
     "name": "stdout",
     "output_type": "stream",
     "text": [
      "[[2 4 9 3 6 7 1 5 8]\n",
      " [3 7 5 8 2 1 9 6 4]\n",
      " [6 1 8 4 5 9 3 7 2]\n",
      " [9 6 2 1 4 3 5 8 7]\n",
      " [4 5 1 7 8 6 2 3 9]\n",
      " [8 3 7 2 9 5 6 4 1]\n",
      " [7 8 6 5 1 2 4 9 3]\n",
      " [1 9 3 6 7 4 8 2 5]\n",
      " [5 2 4 9 3 8 7 1 6]]\n"
     ]
    }
   ],
   "source": [
    "print(np.matrix(grid))"
   ]
  },
  {
   "cell_type": "code",
   "execution_count": null,
   "metadata": {},
   "outputs": [],
   "source": []
  },
  {
   "cell_type": "code",
   "execution_count": null,
   "metadata": {},
   "outputs": [],
   "source": []
  }
 ],
 "metadata": {
  "kernelspec": {
   "display_name": "base",
   "language": "python",
   "name": "python3"
  },
  "language_info": {
   "codemirror_mode": {
    "name": "ipython",
    "version": 3
   },
   "file_extension": ".py",
   "mimetype": "text/x-python",
   "name": "python",
   "nbconvert_exporter": "python",
   "pygments_lexer": "ipython3",
   "version": "3.9.12"
  },
  "orig_nbformat": 4,
  "vscode": {
   "interpreter": {
    "hash": "466db9f32c1c88b86c7f961d49ad86adda2506db7f2c7f48b3c7db2633a079c5"
   }
  }
 },
 "nbformat": 4,
 "nbformat_minor": 2
}
